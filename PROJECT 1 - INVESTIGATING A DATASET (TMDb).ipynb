{
 "cells": [
  {
   "cell_type": "markdown",
   "id": "7fac108c",
   "metadata": {},
   "source": [
    "<img src=\"https://miro.medium.com/max/1400/1*4jEJ6qNFsxf8ic_hcdsJ7Q.jpeg\">"
   ]
  },
  {
   "cell_type": "markdown",
   "id": "d9576c73",
   "metadata": {},
   "source": [
    "# Project: Investigate a Dataset -TMDb (The movie database)\n",
    "\n",
    "\n",
    "## Table of Contents\n",
    "<ul>\n",
    "<li><a href=\"#Intro\">Introduction</a></li>\n",
    "<li><a href=\"#Wrangling\">Data Wrangling</a></li>\n",
    "<li><a href=\"#EDA\">Exploratory Data Analysis</a></li>\n",
    "<li><a href=\"#conclusions\">Conclusions</a></li>"
   ]
  },
  {
   "cell_type": "markdown",
   "id": "e9bd5443",
   "metadata": {},
   "source": [
    "<a id='Intro'></a>\n",
    "\n",
    "## Introduction\n",
    "\n",
    "\n",
    "   In this project, we shall be doing a correlational data analysis of the Movies dataset ,TMDb which was gotten from **data-set-options** [data-set-options.](https://s3.amazonaws.com/video.udacity-data.com/topher/2018/July/5b57919a_data-set-options/data-set-options.pdf) , The first among the options. Download [here](https://www.google.com/url?q=https://d17h27t6h515a5.cloudfront.net/topher/2017/October/59dd1c4c_tmdb-movies/tmdb-movies.csv&sa=D&ust=1532469042115000)\n",
    "   \n",
    "*Our varables of interest are Viewer's Rating , Movie's Polularity ,Budget and Revenue . we shall be studying the given Dataset to try answer some questions and popluar assumptions as regards some key factors affecting the revenue generation for movies produced over the years. Our case study shall be the movies database(TMDb) , record captured from 1960 to 2015\n",
    ".After investigating this dataset, we hope to answer the following research questions*\n",
    "   \n",
    "\n",
    "\n",
    "  \n",
    "  \n",
    "   **Question 1:** What is the relationship between ratings and revenues?\n",
    "   \n",
    "   **Question 2:** Hows does budget affects revenue?\n",
    "  \n",
    "   **Question 3:** Relationship between polularity of a movie and revenue\n",
    "  \n",
    "  \n",
    "  \n",
    "  \n",
    "\n",
    "    \n",
    "    \n",
    "    \n",
    "  \n",
    "\n",
    "  \n"
   ]
  },
  {
   "cell_type": "markdown",
   "id": "608b5c66",
   "metadata": {},
   "source": [
    "<a id='Wrangling'></a>\n",
    "## Data Wrangling\n",
    "*In this section , we shall be inspecting the dataset and possibly cleaning it , to ensure its suitablity for analysis*"
   ]
  },
  {
   "cell_type": "code",
   "execution_count": 146,
   "id": "b3454614",
   "metadata": {},
   "outputs": [],
   "source": [
    "#Importing packages needed\n",
    "\n",
    "import numpy as np\n",
    "import pandas as pd\n",
    "import matplotlib.pyplot as plt\n",
    "import seaborn as sns\n",
    "%matplotlib inline"
   ]
  },
  {
   "cell_type": "code",
   "execution_count": 147,
   "id": "f2573ce7",
   "metadata": {},
   "outputs": [],
   "source": [
    "#loading tmdb csv dataset\n",
    "\n",
    "movies=pd.read_csv('tmdb-movies.csv')"
   ]
  },
  {
   "cell_type": "code",
   "execution_count": 148,
   "id": "b1c3571a",
   "metadata": {},
   "outputs": [
    {
     "data": {
      "text/html": [
       "<div>\n",
       "<style scoped>\n",
       "    .dataframe tbody tr th:only-of-type {\n",
       "        vertical-align: middle;\n",
       "    }\n",
       "\n",
       "    .dataframe tbody tr th {\n",
       "        vertical-align: top;\n",
       "    }\n",
       "\n",
       "    .dataframe thead th {\n",
       "        text-align: right;\n",
       "    }\n",
       "</style>\n",
       "<table border=\"1\" class=\"dataframe\">\n",
       "  <thead>\n",
       "    <tr style=\"text-align: right;\">\n",
       "      <th></th>\n",
       "      <th>id</th>\n",
       "      <th>imdb_id</th>\n",
       "      <th>popularity</th>\n",
       "      <th>budget</th>\n",
       "      <th>revenue</th>\n",
       "      <th>original_title</th>\n",
       "      <th>cast</th>\n",
       "      <th>homepage</th>\n",
       "      <th>director</th>\n",
       "      <th>tagline</th>\n",
       "      <th>...</th>\n",
       "      <th>overview</th>\n",
       "      <th>runtime</th>\n",
       "      <th>genres</th>\n",
       "      <th>production_companies</th>\n",
       "      <th>release_date</th>\n",
       "      <th>vote_count</th>\n",
       "      <th>vote_average</th>\n",
       "      <th>release_year</th>\n",
       "      <th>budget_adj</th>\n",
       "      <th>revenue_adj</th>\n",
       "    </tr>\n",
       "  </thead>\n",
       "  <tbody>\n",
       "    <tr>\n",
       "      <th>0</th>\n",
       "      <td>135397</td>\n",
       "      <td>tt0369610</td>\n",
       "      <td>32.985763</td>\n",
       "      <td>150000000</td>\n",
       "      <td>1513528810</td>\n",
       "      <td>Jurassic World</td>\n",
       "      <td>Chris Pratt|Bryce Dallas Howard|Irrfan Khan|Vi...</td>\n",
       "      <td>http://www.jurassicworld.com/</td>\n",
       "      <td>Colin Trevorrow</td>\n",
       "      <td>The park is open.</td>\n",
       "      <td>...</td>\n",
       "      <td>Twenty-two years after the events of Jurassic ...</td>\n",
       "      <td>124</td>\n",
       "      <td>Action|Adventure|Science Fiction|Thriller</td>\n",
       "      <td>Universal Studios|Amblin Entertainment|Legenda...</td>\n",
       "      <td>6/9/15</td>\n",
       "      <td>5562</td>\n",
       "      <td>6.5</td>\n",
       "      <td>2015</td>\n",
       "      <td>1.379999e+08</td>\n",
       "      <td>1.392446e+09</td>\n",
       "    </tr>\n",
       "    <tr>\n",
       "      <th>1</th>\n",
       "      <td>76341</td>\n",
       "      <td>tt1392190</td>\n",
       "      <td>28.419936</td>\n",
       "      <td>150000000</td>\n",
       "      <td>378436354</td>\n",
       "      <td>Mad Max: Fury Road</td>\n",
       "      <td>Tom Hardy|Charlize Theron|Hugh Keays-Byrne|Nic...</td>\n",
       "      <td>http://www.madmaxmovie.com/</td>\n",
       "      <td>George Miller</td>\n",
       "      <td>What a Lovely Day.</td>\n",
       "      <td>...</td>\n",
       "      <td>An apocalyptic story set in the furthest reach...</td>\n",
       "      <td>120</td>\n",
       "      <td>Action|Adventure|Science Fiction|Thriller</td>\n",
       "      <td>Village Roadshow Pictures|Kennedy Miller Produ...</td>\n",
       "      <td>5/13/15</td>\n",
       "      <td>6185</td>\n",
       "      <td>7.1</td>\n",
       "      <td>2015</td>\n",
       "      <td>1.379999e+08</td>\n",
       "      <td>3.481613e+08</td>\n",
       "    </tr>\n",
       "    <tr>\n",
       "      <th>2</th>\n",
       "      <td>262500</td>\n",
       "      <td>tt2908446</td>\n",
       "      <td>13.112507</td>\n",
       "      <td>110000000</td>\n",
       "      <td>295238201</td>\n",
       "      <td>Insurgent</td>\n",
       "      <td>Shailene Woodley|Theo James|Kate Winslet|Ansel...</td>\n",
       "      <td>http://www.thedivergentseries.movie/#insurgent</td>\n",
       "      <td>Robert Schwentke</td>\n",
       "      <td>One Choice Can Destroy You</td>\n",
       "      <td>...</td>\n",
       "      <td>Beatrice Prior must confront her inner demons ...</td>\n",
       "      <td>119</td>\n",
       "      <td>Adventure|Science Fiction|Thriller</td>\n",
       "      <td>Summit Entertainment|Mandeville Films|Red Wago...</td>\n",
       "      <td>3/18/15</td>\n",
       "      <td>2480</td>\n",
       "      <td>6.3</td>\n",
       "      <td>2015</td>\n",
       "      <td>1.012000e+08</td>\n",
       "      <td>2.716190e+08</td>\n",
       "    </tr>\n",
       "    <tr>\n",
       "      <th>3</th>\n",
       "      <td>140607</td>\n",
       "      <td>tt2488496</td>\n",
       "      <td>11.173104</td>\n",
       "      <td>200000000</td>\n",
       "      <td>2068178225</td>\n",
       "      <td>Star Wars: The Force Awakens</td>\n",
       "      <td>Harrison Ford|Mark Hamill|Carrie Fisher|Adam D...</td>\n",
       "      <td>http://www.starwars.com/films/star-wars-episod...</td>\n",
       "      <td>J.J. Abrams</td>\n",
       "      <td>Every generation has a story.</td>\n",
       "      <td>...</td>\n",
       "      <td>Thirty years after defeating the Galactic Empi...</td>\n",
       "      <td>136</td>\n",
       "      <td>Action|Adventure|Science Fiction|Fantasy</td>\n",
       "      <td>Lucasfilm|Truenorth Productions|Bad Robot</td>\n",
       "      <td>12/15/15</td>\n",
       "      <td>5292</td>\n",
       "      <td>7.5</td>\n",
       "      <td>2015</td>\n",
       "      <td>1.839999e+08</td>\n",
       "      <td>1.902723e+09</td>\n",
       "    </tr>\n",
       "    <tr>\n",
       "      <th>4</th>\n",
       "      <td>168259</td>\n",
       "      <td>tt2820852</td>\n",
       "      <td>9.335014</td>\n",
       "      <td>190000000</td>\n",
       "      <td>1506249360</td>\n",
       "      <td>Furious 7</td>\n",
       "      <td>Vin Diesel|Paul Walker|Jason Statham|Michelle ...</td>\n",
       "      <td>http://www.furious7.com/</td>\n",
       "      <td>James Wan</td>\n",
       "      <td>Vengeance Hits Home</td>\n",
       "      <td>...</td>\n",
       "      <td>Deckard Shaw seeks revenge against Dominic Tor...</td>\n",
       "      <td>137</td>\n",
       "      <td>Action|Crime|Thriller</td>\n",
       "      <td>Universal Pictures|Original Film|Media Rights ...</td>\n",
       "      <td>4/1/15</td>\n",
       "      <td>2947</td>\n",
       "      <td>7.3</td>\n",
       "      <td>2015</td>\n",
       "      <td>1.747999e+08</td>\n",
       "      <td>1.385749e+09</td>\n",
       "    </tr>\n",
       "  </tbody>\n",
       "</table>\n",
       "<p>5 rows × 21 columns</p>\n",
       "</div>"
      ],
      "text/plain": [
       "       id    imdb_id  popularity     budget     revenue  \\\n",
       "0  135397  tt0369610   32.985763  150000000  1513528810   \n",
       "1   76341  tt1392190   28.419936  150000000   378436354   \n",
       "2  262500  tt2908446   13.112507  110000000   295238201   \n",
       "3  140607  tt2488496   11.173104  200000000  2068178225   \n",
       "4  168259  tt2820852    9.335014  190000000  1506249360   \n",
       "\n",
       "                 original_title  \\\n",
       "0                Jurassic World   \n",
       "1            Mad Max: Fury Road   \n",
       "2                     Insurgent   \n",
       "3  Star Wars: The Force Awakens   \n",
       "4                     Furious 7   \n",
       "\n",
       "                                                cast  \\\n",
       "0  Chris Pratt|Bryce Dallas Howard|Irrfan Khan|Vi...   \n",
       "1  Tom Hardy|Charlize Theron|Hugh Keays-Byrne|Nic...   \n",
       "2  Shailene Woodley|Theo James|Kate Winslet|Ansel...   \n",
       "3  Harrison Ford|Mark Hamill|Carrie Fisher|Adam D...   \n",
       "4  Vin Diesel|Paul Walker|Jason Statham|Michelle ...   \n",
       "\n",
       "                                            homepage          director  \\\n",
       "0                      http://www.jurassicworld.com/   Colin Trevorrow   \n",
       "1                        http://www.madmaxmovie.com/     George Miller   \n",
       "2     http://www.thedivergentseries.movie/#insurgent  Robert Schwentke   \n",
       "3  http://www.starwars.com/films/star-wars-episod...       J.J. Abrams   \n",
       "4                           http://www.furious7.com/         James Wan   \n",
       "\n",
       "                         tagline  ...  \\\n",
       "0              The park is open.  ...   \n",
       "1             What a Lovely Day.  ...   \n",
       "2     One Choice Can Destroy You  ...   \n",
       "3  Every generation has a story.  ...   \n",
       "4            Vengeance Hits Home  ...   \n",
       "\n",
       "                                            overview runtime  \\\n",
       "0  Twenty-two years after the events of Jurassic ...     124   \n",
       "1  An apocalyptic story set in the furthest reach...     120   \n",
       "2  Beatrice Prior must confront her inner demons ...     119   \n",
       "3  Thirty years after defeating the Galactic Empi...     136   \n",
       "4  Deckard Shaw seeks revenge against Dominic Tor...     137   \n",
       "\n",
       "                                      genres  \\\n",
       "0  Action|Adventure|Science Fiction|Thriller   \n",
       "1  Action|Adventure|Science Fiction|Thriller   \n",
       "2         Adventure|Science Fiction|Thriller   \n",
       "3   Action|Adventure|Science Fiction|Fantasy   \n",
       "4                      Action|Crime|Thriller   \n",
       "\n",
       "                                production_companies release_date vote_count  \\\n",
       "0  Universal Studios|Amblin Entertainment|Legenda...       6/9/15       5562   \n",
       "1  Village Roadshow Pictures|Kennedy Miller Produ...      5/13/15       6185   \n",
       "2  Summit Entertainment|Mandeville Films|Red Wago...      3/18/15       2480   \n",
       "3          Lucasfilm|Truenorth Productions|Bad Robot     12/15/15       5292   \n",
       "4  Universal Pictures|Original Film|Media Rights ...       4/1/15       2947   \n",
       "\n",
       "   vote_average  release_year    budget_adj   revenue_adj  \n",
       "0           6.5          2015  1.379999e+08  1.392446e+09  \n",
       "1           7.1          2015  1.379999e+08  3.481613e+08  \n",
       "2           6.3          2015  1.012000e+08  2.716190e+08  \n",
       "3           7.5          2015  1.839999e+08  1.902723e+09  \n",
       "4           7.3          2015  1.747999e+08  1.385749e+09  \n",
       "\n",
       "[5 rows x 21 columns]"
      ]
     },
     "execution_count": 148,
     "metadata": {},
     "output_type": "execute_result"
    }
   ],
   "source": [
    "#viewing first 5 observations\n",
    "movies.head()"
   ]
  },
  {
   "cell_type": "code",
   "execution_count": 149,
   "id": "88fef228",
   "metadata": {},
   "outputs": [
    {
     "data": {
      "text/plain": [
       "(10866, 21)"
      ]
     },
     "execution_count": 149,
     "metadata": {},
     "output_type": "execute_result"
    }
   ],
   "source": [
    "#Getting the dimention of the dataframe\n",
    "movies.shape"
   ]
  },
  {
   "cell_type": "markdown",
   "id": "17f60b63",
   "metadata": {},
   "source": [
    " This dataset has a total of **10866** rows and **21** columns"
   ]
  },
  {
   "cell_type": "code",
   "execution_count": 150,
   "id": "b9b5ca45",
   "metadata": {},
   "outputs": [
    {
     "name": "stdout",
     "output_type": "stream",
     "text": [
      "<class 'pandas.core.frame.DataFrame'>\n",
      "RangeIndex: 10866 entries, 0 to 10865\n",
      "Data columns (total 21 columns):\n",
      " #   Column                Non-Null Count  Dtype  \n",
      "---  ------                --------------  -----  \n",
      " 0   id                    10866 non-null  int64  \n",
      " 1   imdb_id               10856 non-null  object \n",
      " 2   popularity            10866 non-null  float64\n",
      " 3   budget                10866 non-null  int64  \n",
      " 4   revenue               10866 non-null  int64  \n",
      " 5   original_title        10866 non-null  object \n",
      " 6   cast                  10790 non-null  object \n",
      " 7   homepage              2936 non-null   object \n",
      " 8   director              10822 non-null  object \n",
      " 9   tagline               8042 non-null   object \n",
      " 10  keywords              9373 non-null   object \n",
      " 11  overview              10862 non-null  object \n",
      " 12  runtime               10866 non-null  int64  \n",
      " 13  genres                10843 non-null  object \n",
      " 14  production_companies  9836 non-null   object \n",
      " 15  release_date          10866 non-null  object \n",
      " 16  vote_count            10866 non-null  int64  \n",
      " 17  vote_average          10866 non-null  float64\n",
      " 18  release_year          10866 non-null  int64  \n",
      " 19  budget_adj            10866 non-null  float64\n",
      " 20  revenue_adj           10866 non-null  float64\n",
      "dtypes: float64(4), int64(6), object(11)\n",
      "memory usage: 1.7+ MB\n"
     ]
    }
   ],
   "source": [
    "#Getting the summary infomation of the dataset\n",
    "movies.info()"
   ]
  },
  {
   "cell_type": "markdown",
   "id": "b41d584d",
   "metadata": {},
   "source": [
    "## Data Cleaning\n",
    "\n",
    "\n",
    "***We need to drop columns that are not relevant to our research questions ."
   ]
  },
  {
   "cell_type": "code",
   "execution_count": 151,
   "id": "798b66fe",
   "metadata": {},
   "outputs": [
    {
     "data": {
      "text/html": [
       "<div>\n",
       "<style scoped>\n",
       "    .dataframe tbody tr th:only-of-type {\n",
       "        vertical-align: middle;\n",
       "    }\n",
       "\n",
       "    .dataframe tbody tr th {\n",
       "        vertical-align: top;\n",
       "    }\n",
       "\n",
       "    .dataframe thead th {\n",
       "        text-align: right;\n",
       "    }\n",
       "</style>\n",
       "<table border=\"1\" class=\"dataframe\">\n",
       "  <thead>\n",
       "    <tr style=\"text-align: right;\">\n",
       "      <th></th>\n",
       "      <th>popularity</th>\n",
       "      <th>budget</th>\n",
       "      <th>revenue</th>\n",
       "      <th>original_title</th>\n",
       "      <th>vote_count</th>\n",
       "      <th>vote_average</th>\n",
       "      <th>release_year</th>\n",
       "      <th>budget_adj</th>\n",
       "      <th>revenue_adj</th>\n",
       "    </tr>\n",
       "  </thead>\n",
       "  <tbody>\n",
       "    <tr>\n",
       "      <th>0</th>\n",
       "      <td>32.985763</td>\n",
       "      <td>150000000</td>\n",
       "      <td>1513528810</td>\n",
       "      <td>Jurassic World</td>\n",
       "      <td>5562</td>\n",
       "      <td>6.5</td>\n",
       "      <td>2015</td>\n",
       "      <td>1.379999e+08</td>\n",
       "      <td>1.392446e+09</td>\n",
       "    </tr>\n",
       "    <tr>\n",
       "      <th>1</th>\n",
       "      <td>28.419936</td>\n",
       "      <td>150000000</td>\n",
       "      <td>378436354</td>\n",
       "      <td>Mad Max: Fury Road</td>\n",
       "      <td>6185</td>\n",
       "      <td>7.1</td>\n",
       "      <td>2015</td>\n",
       "      <td>1.379999e+08</td>\n",
       "      <td>3.481613e+08</td>\n",
       "    </tr>\n",
       "    <tr>\n",
       "      <th>2</th>\n",
       "      <td>13.112507</td>\n",
       "      <td>110000000</td>\n",
       "      <td>295238201</td>\n",
       "      <td>Insurgent</td>\n",
       "      <td>2480</td>\n",
       "      <td>6.3</td>\n",
       "      <td>2015</td>\n",
       "      <td>1.012000e+08</td>\n",
       "      <td>2.716190e+08</td>\n",
       "    </tr>\n",
       "    <tr>\n",
       "      <th>3</th>\n",
       "      <td>11.173104</td>\n",
       "      <td>200000000</td>\n",
       "      <td>2068178225</td>\n",
       "      <td>Star Wars: The Force Awakens</td>\n",
       "      <td>5292</td>\n",
       "      <td>7.5</td>\n",
       "      <td>2015</td>\n",
       "      <td>1.839999e+08</td>\n",
       "      <td>1.902723e+09</td>\n",
       "    </tr>\n",
       "    <tr>\n",
       "      <th>4</th>\n",
       "      <td>9.335014</td>\n",
       "      <td>190000000</td>\n",
       "      <td>1506249360</td>\n",
       "      <td>Furious 7</td>\n",
       "      <td>2947</td>\n",
       "      <td>7.3</td>\n",
       "      <td>2015</td>\n",
       "      <td>1.747999e+08</td>\n",
       "      <td>1.385749e+09</td>\n",
       "    </tr>\n",
       "  </tbody>\n",
       "</table>\n",
       "</div>"
      ],
      "text/plain": [
       "   popularity     budget     revenue                original_title  \\\n",
       "0   32.985763  150000000  1513528810                Jurassic World   \n",
       "1   28.419936  150000000   378436354            Mad Max: Fury Road   \n",
       "2   13.112507  110000000   295238201                     Insurgent   \n",
       "3   11.173104  200000000  2068178225  Star Wars: The Force Awakens   \n",
       "4    9.335014  190000000  1506249360                     Furious 7   \n",
       "\n",
       "   vote_count  vote_average  release_year    budget_adj   revenue_adj  \n",
       "0        5562           6.5          2015  1.379999e+08  1.392446e+09  \n",
       "1        6185           7.1          2015  1.379999e+08  3.481613e+08  \n",
       "2        2480           6.3          2015  1.012000e+08  2.716190e+08  \n",
       "3        5292           7.5          2015  1.839999e+08  1.902723e+09  \n",
       "4        2947           7.3          2015  1.747999e+08  1.385749e+09  "
      ]
     },
     "execution_count": 151,
     "metadata": {},
     "output_type": "execute_result"
    }
   ],
   "source": [
    "movies.drop(['id','imdb_id','homepage','tagline','overview','runtime','production_companies','director','release_date','genres','cast','keywords'], axis = 1, inplace = True)\n",
    "movies.head()"
   ]
  },
  {
   "cell_type": "code",
   "execution_count": 152,
   "id": "75ccb0b2",
   "metadata": {},
   "outputs": [
    {
     "name": "stdout",
     "output_type": "stream",
     "text": [
      "<class 'pandas.core.frame.DataFrame'>\n",
      "RangeIndex: 10866 entries, 0 to 10865\n",
      "Data columns (total 9 columns):\n",
      " #   Column          Non-Null Count  Dtype  \n",
      "---  ------          --------------  -----  \n",
      " 0   popularity      10866 non-null  float64\n",
      " 1   budget          10866 non-null  int64  \n",
      " 2   revenue         10866 non-null  int64  \n",
      " 3   original_title  10866 non-null  object \n",
      " 4   vote_count      10866 non-null  int64  \n",
      " 5   vote_average    10866 non-null  float64\n",
      " 6   release_year    10866 non-null  int64  \n",
      " 7   budget_adj      10866 non-null  float64\n",
      " 8   revenue_adj     10866 non-null  float64\n",
      "dtypes: float64(4), int64(4), object(1)\n",
      "memory usage: 764.1+ KB\n"
     ]
    }
   ],
   "source": [
    "movies.info()"
   ]
  },
  {
   "cell_type": "markdown",
   "id": "14bc4908",
   "metadata": {},
   "source": [
    "**Lets check for duplicates"
   ]
  },
  {
   "cell_type": "code",
   "execution_count": 153,
   "id": "3ccd2903",
   "metadata": {},
   "outputs": [
    {
     "data": {
      "text/plain": [
       "1"
      ]
     },
     "execution_count": 153,
     "metadata": {},
     "output_type": "execute_result"
    }
   ],
   "source": [
    "#Checking for dupliicates\n",
    "movies.duplicated().sum()"
   ]
  },
  {
   "cell_type": "code",
   "execution_count": 154,
   "id": "e7bcdf50",
   "metadata": {},
   "outputs": [],
   "source": [
    "#Droping the duplicates\n",
    "movies.drop_duplicates(inplace=True)"
   ]
  },
  {
   "cell_type": "code",
   "execution_count": 155,
   "id": "49afa0db",
   "metadata": {},
   "outputs": [
    {
     "data": {
      "text/plain": [
       "0"
      ]
     },
     "execution_count": 155,
     "metadata": {},
     "output_type": "execute_result"
    }
   ],
   "source": [
    "#checking to be sure dubplicates are removed \n",
    "movies.duplicated().sum()"
   ]
  },
  {
   "cell_type": "markdown",
   "id": "0c361f40",
   "metadata": {},
   "source": [
    "**Next , we address the issue of missing or unknown values/Obervations"
   ]
  },
  {
   "cell_type": "code",
   "execution_count": 156,
   "id": "07d92e79",
   "metadata": {},
   "outputs": [
    {
     "data": {
      "text/plain": [
       "popularity        0\n",
       "budget            0\n",
       "revenue           0\n",
       "original_title    0\n",
       "vote_count        0\n",
       "vote_average      0\n",
       "release_year      0\n",
       "budget_adj        0\n",
       "revenue_adj       0\n",
       "dtype: int64"
      ]
     },
     "execution_count": 156,
     "metadata": {},
     "output_type": "execute_result"
    }
   ],
   "source": [
    "movies.isnull().sum()"
   ]
  },
  {
   "cell_type": "markdown",
   "id": "c7a9f06f",
   "metadata": {},
   "source": [
    "There are no missing values from the columns of interest.we proceed\n"
   ]
  },
  {
   "cell_type": "code",
   "execution_count": 158,
   "id": "f264cc44",
   "metadata": {},
   "outputs": [
    {
     "data": {
      "text/plain": [
       "(10865, 9)"
      ]
     },
     "execution_count": 158,
     "metadata": {},
     "output_type": "execute_result"
    }
   ],
   "source": [
    "movies.shape"
   ]
  },
  {
   "cell_type": "code",
   "execution_count": 159,
   "id": "64338c84",
   "metadata": {},
   "outputs": [
    {
     "data": {
      "text/html": [
       "<div>\n",
       "<style scoped>\n",
       "    .dataframe tbody tr th:only-of-type {\n",
       "        vertical-align: middle;\n",
       "    }\n",
       "\n",
       "    .dataframe tbody tr th {\n",
       "        vertical-align: top;\n",
       "    }\n",
       "\n",
       "    .dataframe thead th {\n",
       "        text-align: right;\n",
       "    }\n",
       "</style>\n",
       "<table border=\"1\" class=\"dataframe\">\n",
       "  <thead>\n",
       "    <tr style=\"text-align: right;\">\n",
       "      <th></th>\n",
       "      <th>popularity</th>\n",
       "      <th>budget</th>\n",
       "      <th>revenue</th>\n",
       "      <th>vote_count</th>\n",
       "      <th>vote_average</th>\n",
       "      <th>release_year</th>\n",
       "      <th>budget_adj</th>\n",
       "      <th>revenue_adj</th>\n",
       "    </tr>\n",
       "  </thead>\n",
       "  <tbody>\n",
       "    <tr>\n",
       "      <th>count</th>\n",
       "      <td>10865.000000</td>\n",
       "      <td>1.086500e+04</td>\n",
       "      <td>1.086500e+04</td>\n",
       "      <td>10865.000000</td>\n",
       "      <td>10865.000000</td>\n",
       "      <td>10865.000000</td>\n",
       "      <td>1.086500e+04</td>\n",
       "      <td>1.086500e+04</td>\n",
       "    </tr>\n",
       "    <tr>\n",
       "      <th>mean</th>\n",
       "      <td>0.646446</td>\n",
       "      <td>1.462429e+07</td>\n",
       "      <td>3.982690e+07</td>\n",
       "      <td>217.399632</td>\n",
       "      <td>5.975012</td>\n",
       "      <td>2001.321859</td>\n",
       "      <td>1.754989e+07</td>\n",
       "      <td>5.136900e+07</td>\n",
       "    </tr>\n",
       "    <tr>\n",
       "      <th>std</th>\n",
       "      <td>1.000231</td>\n",
       "      <td>3.091428e+07</td>\n",
       "      <td>1.170083e+08</td>\n",
       "      <td>575.644627</td>\n",
       "      <td>0.935138</td>\n",
       "      <td>12.813260</td>\n",
       "      <td>3.430753e+07</td>\n",
       "      <td>1.446383e+08</td>\n",
       "    </tr>\n",
       "    <tr>\n",
       "      <th>min</th>\n",
       "      <td>0.000065</td>\n",
       "      <td>0.000000e+00</td>\n",
       "      <td>0.000000e+00</td>\n",
       "      <td>10.000000</td>\n",
       "      <td>1.500000</td>\n",
       "      <td>1960.000000</td>\n",
       "      <td>0.000000e+00</td>\n",
       "      <td>0.000000e+00</td>\n",
       "    </tr>\n",
       "    <tr>\n",
       "      <th>25%</th>\n",
       "      <td>0.207575</td>\n",
       "      <td>0.000000e+00</td>\n",
       "      <td>0.000000e+00</td>\n",
       "      <td>17.000000</td>\n",
       "      <td>5.400000</td>\n",
       "      <td>1995.000000</td>\n",
       "      <td>0.000000e+00</td>\n",
       "      <td>0.000000e+00</td>\n",
       "    </tr>\n",
       "    <tr>\n",
       "      <th>50%</th>\n",
       "      <td>0.383831</td>\n",
       "      <td>0.000000e+00</td>\n",
       "      <td>0.000000e+00</td>\n",
       "      <td>38.000000</td>\n",
       "      <td>6.000000</td>\n",
       "      <td>2006.000000</td>\n",
       "      <td>0.000000e+00</td>\n",
       "      <td>0.000000e+00</td>\n",
       "    </tr>\n",
       "    <tr>\n",
       "      <th>75%</th>\n",
       "      <td>0.713857</td>\n",
       "      <td>1.500000e+07</td>\n",
       "      <td>2.400000e+07</td>\n",
       "      <td>146.000000</td>\n",
       "      <td>6.600000</td>\n",
       "      <td>2011.000000</td>\n",
       "      <td>2.085325e+07</td>\n",
       "      <td>3.370173e+07</td>\n",
       "    </tr>\n",
       "    <tr>\n",
       "      <th>max</th>\n",
       "      <td>32.985763</td>\n",
       "      <td>4.250000e+08</td>\n",
       "      <td>2.781506e+09</td>\n",
       "      <td>9767.000000</td>\n",
       "      <td>9.200000</td>\n",
       "      <td>2015.000000</td>\n",
       "      <td>4.250000e+08</td>\n",
       "      <td>2.827124e+09</td>\n",
       "    </tr>\n",
       "  </tbody>\n",
       "</table>\n",
       "</div>"
      ],
      "text/plain": [
       "         popularity        budget       revenue    vote_count  vote_average  \\\n",
       "count  10865.000000  1.086500e+04  1.086500e+04  10865.000000  10865.000000   \n",
       "mean       0.646446  1.462429e+07  3.982690e+07    217.399632      5.975012   \n",
       "std        1.000231  3.091428e+07  1.170083e+08    575.644627      0.935138   \n",
       "min        0.000065  0.000000e+00  0.000000e+00     10.000000      1.500000   \n",
       "25%        0.207575  0.000000e+00  0.000000e+00     17.000000      5.400000   \n",
       "50%        0.383831  0.000000e+00  0.000000e+00     38.000000      6.000000   \n",
       "75%        0.713857  1.500000e+07  2.400000e+07    146.000000      6.600000   \n",
       "max       32.985763  4.250000e+08  2.781506e+09   9767.000000      9.200000   \n",
       "\n",
       "       release_year    budget_adj   revenue_adj  \n",
       "count  10865.000000  1.086500e+04  1.086500e+04  \n",
       "mean    2001.321859  1.754989e+07  5.136900e+07  \n",
       "std       12.813260  3.430753e+07  1.446383e+08  \n",
       "min     1960.000000  0.000000e+00  0.000000e+00  \n",
       "25%     1995.000000  0.000000e+00  0.000000e+00  \n",
       "50%     2006.000000  0.000000e+00  0.000000e+00  \n",
       "75%     2011.000000  2.085325e+07  3.370173e+07  \n",
       "max     2015.000000  4.250000e+08  2.827124e+09  "
      ]
     },
     "execution_count": 159,
     "metadata": {},
     "output_type": "execute_result"
    }
   ],
   "source": [
    "movies.describe()"
   ]
  },
  {
   "cell_type": "markdown",
   "id": "deb30c39",
   "metadata": {},
   "source": [
    "<a id='EDA'></a>\n",
    "## Exploratory Data Analysis\n",
    "\n",
    "We have successfully cleaned the dataset and its now ready for analsysis , in answering our research questions \n",
    "\n",
    "\n",
    "### Research Question 1 :What is the relationship between ratings and revenues\n"
   ]
  },
  {
   "cell_type": "code",
   "execution_count": 112,
   "id": "1a5456f0",
   "metadata": {},
   "outputs": [
    {
     "data": {
      "text/html": [
       "<div>\n",
       "<style scoped>\n",
       "    .dataframe tbody tr th:only-of-type {\n",
       "        vertical-align: middle;\n",
       "    }\n",
       "\n",
       "    .dataframe tbody tr th {\n",
       "        vertical-align: top;\n",
       "    }\n",
       "\n",
       "    .dataframe thead th {\n",
       "        text-align: right;\n",
       "    }\n",
       "</style>\n",
       "<table border=\"1\" class=\"dataframe\">\n",
       "  <thead>\n",
       "    <tr style=\"text-align: right;\">\n",
       "      <th></th>\n",
       "      <th>id</th>\n",
       "      <th>popularity</th>\n",
       "      <th>budget</th>\n",
       "      <th>revenue</th>\n",
       "      <th>vote_count</th>\n",
       "      <th>vote_average</th>\n",
       "      <th>release_year</th>\n",
       "      <th>budget_adj</th>\n",
       "      <th>revenue_adj</th>\n",
       "    </tr>\n",
       "  </thead>\n",
       "  <tbody>\n",
       "    <tr>\n",
       "      <th>id</th>\n",
       "      <td>1.000000</td>\n",
       "      <td>-0.014351</td>\n",
       "      <td>-0.141341</td>\n",
       "      <td>-0.099235</td>\n",
       "      <td>-0.035555</td>\n",
       "      <td>-0.058391</td>\n",
       "      <td>0.511393</td>\n",
       "      <td>-0.189008</td>\n",
       "      <td>-0.138487</td>\n",
       "    </tr>\n",
       "    <tr>\n",
       "      <th>popularity</th>\n",
       "      <td>-0.014351</td>\n",
       "      <td>1.000000</td>\n",
       "      <td>0.545481</td>\n",
       "      <td>0.663360</td>\n",
       "      <td>0.800828</td>\n",
       "      <td>0.209517</td>\n",
       "      <td>0.089806</td>\n",
       "      <td>0.513555</td>\n",
       "      <td>0.609085</td>\n",
       "    </tr>\n",
       "    <tr>\n",
       "      <th>budget</th>\n",
       "      <td>-0.141341</td>\n",
       "      <td>0.545481</td>\n",
       "      <td>1.000000</td>\n",
       "      <td>0.734928</td>\n",
       "      <td>0.632719</td>\n",
       "      <td>0.081067</td>\n",
       "      <td>0.115904</td>\n",
       "      <td>0.968963</td>\n",
       "      <td>0.622531</td>\n",
       "    </tr>\n",
       "    <tr>\n",
       "      <th>revenue</th>\n",
       "      <td>-0.099235</td>\n",
       "      <td>0.663360</td>\n",
       "      <td>0.734928</td>\n",
       "      <td>1.000000</td>\n",
       "      <td>0.791174</td>\n",
       "      <td>0.172541</td>\n",
       "      <td>0.057070</td>\n",
       "      <td>0.706446</td>\n",
       "      <td>0.919109</td>\n",
       "    </tr>\n",
       "    <tr>\n",
       "      <th>vote_count</th>\n",
       "      <td>-0.035555</td>\n",
       "      <td>0.800828</td>\n",
       "      <td>0.632719</td>\n",
       "      <td>0.791174</td>\n",
       "      <td>1.000000</td>\n",
       "      <td>0.253818</td>\n",
       "      <td>0.107962</td>\n",
       "      <td>0.587062</td>\n",
       "      <td>0.707941</td>\n",
       "    </tr>\n",
       "    <tr>\n",
       "      <th>vote_average</th>\n",
       "      <td>-0.058391</td>\n",
       "      <td>0.209517</td>\n",
       "      <td>0.081067</td>\n",
       "      <td>0.172541</td>\n",
       "      <td>0.253818</td>\n",
       "      <td>1.000000</td>\n",
       "      <td>-0.117576</td>\n",
       "      <td>0.093079</td>\n",
       "      <td>0.193062</td>\n",
       "    </tr>\n",
       "    <tr>\n",
       "      <th>release_year</th>\n",
       "      <td>0.511393</td>\n",
       "      <td>0.089806</td>\n",
       "      <td>0.115904</td>\n",
       "      <td>0.057070</td>\n",
       "      <td>0.107962</td>\n",
       "      <td>-0.117576</td>\n",
       "      <td>1.000000</td>\n",
       "      <td>0.016771</td>\n",
       "      <td>-0.066236</td>\n",
       "    </tr>\n",
       "    <tr>\n",
       "      <th>budget_adj</th>\n",
       "      <td>-0.189008</td>\n",
       "      <td>0.513555</td>\n",
       "      <td>0.968963</td>\n",
       "      <td>0.706446</td>\n",
       "      <td>0.587062</td>\n",
       "      <td>0.093079</td>\n",
       "      <td>0.016771</td>\n",
       "      <td>1.000000</td>\n",
       "      <td>0.646627</td>\n",
       "    </tr>\n",
       "    <tr>\n",
       "      <th>revenue_adj</th>\n",
       "      <td>-0.138487</td>\n",
       "      <td>0.609085</td>\n",
       "      <td>0.622531</td>\n",
       "      <td>0.919109</td>\n",
       "      <td>0.707941</td>\n",
       "      <td>0.193062</td>\n",
       "      <td>-0.066236</td>\n",
       "      <td>0.646627</td>\n",
       "      <td>1.000000</td>\n",
       "    </tr>\n",
       "  </tbody>\n",
       "</table>\n",
       "</div>"
      ],
      "text/plain": [
       "                    id  popularity    budget   revenue  vote_count  \\\n",
       "id            1.000000   -0.014351 -0.141341 -0.099235   -0.035555   \n",
       "popularity   -0.014351    1.000000  0.545481  0.663360    0.800828   \n",
       "budget       -0.141341    0.545481  1.000000  0.734928    0.632719   \n",
       "revenue      -0.099235    0.663360  0.734928  1.000000    0.791174   \n",
       "vote_count   -0.035555    0.800828  0.632719  0.791174    1.000000   \n",
       "vote_average -0.058391    0.209517  0.081067  0.172541    0.253818   \n",
       "release_year  0.511393    0.089806  0.115904  0.057070    0.107962   \n",
       "budget_adj   -0.189008    0.513555  0.968963  0.706446    0.587062   \n",
       "revenue_adj  -0.138487    0.609085  0.622531  0.919109    0.707941   \n",
       "\n",
       "              vote_average  release_year  budget_adj  revenue_adj  \n",
       "id               -0.058391      0.511393   -0.189008    -0.138487  \n",
       "popularity        0.209517      0.089806    0.513555     0.609085  \n",
       "budget            0.081067      0.115904    0.968963     0.622531  \n",
       "revenue           0.172541      0.057070    0.706446     0.919109  \n",
       "vote_count        0.253818      0.107962    0.587062     0.707941  \n",
       "vote_average      1.000000     -0.117576    0.093079     0.193062  \n",
       "release_year     -0.117576      1.000000    0.016771    -0.066236  \n",
       "budget_adj        0.093079      0.016771    1.000000     0.646627  \n",
       "revenue_adj       0.193062     -0.066236    0.646627     1.000000  "
      ]
     },
     "execution_count": 112,
     "metadata": {},
     "output_type": "execute_result"
    },
    {
     "data": {
      "image/png": "[encoded data removed]",
      "text/plain": [
       "<Figure size 576x432 with 2 Axes>"
      ]
     },
     "metadata": {
      "needs_background": "light"
     },
     "output_type": "display_data"
    }
   ],
   "source": [
    "#Generating a correlation matrix to show relationships among different variables\n",
    "\n",
    "fig, ax = plt.subplots(figsize=(8, 6))\n",
    "\n",
    "sns.heatmap(movies.corr(), ax=ax, annot=True)\n",
    "\n",
    "movies.corr()"
   ]
  },
  {
   "cell_type": "code",
   "execution_count": 161,
   "id": "6180e82b",
   "metadata": {},
   "outputs": [
    {
     "data": {
      "image/png": "[encoded data removed]",
      "text/plain": [
       "<Figure size 576x504 with 1 Axes>"
      ]
     },
     "metadata": {},
     "output_type": "display_data"
    }
   ],
   "source": [
    "#Plotting a scatter plot for  Vote_counte Vs Revenue\n",
    "fig, axes = plt.subplots(1,1,figsize = (8,7))\n",
    "fig.suptitle(\"vote_count vs revenue\",fontsize=25)\n",
    "sns.scatterplot(data=movies,x=\"vote_count\" ,y=\"revenue\");"
   ]
  },
  {
   "cell_type": "code",
   "execution_count": 162,
   "id": "fcf7eacf",
   "metadata": {},
   "outputs": [
    {
     "data": {
      "text/plain": [
       "0.7911743699314724"
      ]
     },
     "execution_count": 162,
     "metadata": {},
     "output_type": "execute_result"
    }
   ],
   "source": [
    "#Computing the correlaion between Vote_counnts and revenue of movies\n",
    "rate_rev=movies['vote_count'].corr(movies['revenue'])  \n",
    "rate_rev"
   ]
  },
  {
   "cell_type": "markdown",
   "id": "b98b3b16",
   "metadata": {},
   "source": [
    "From the above information , we can see a fairly strong posiive correlation of **0.79** between viewers' rating (vote_counts) and revenue  This means vote_counts contribute about 79% to the revenue generated "
   ]
  },
  {
   "cell_type": "markdown",
   "id": "0ebd8491",
   "metadata": {},
   "source": [
    "### Research Question 2 :Hows does budget affects revenue"
   ]
  },
  {
   "cell_type": "code",
   "execution_count": 142,
   "id": "6dcd085c",
   "metadata": {},
   "outputs": [
    {
     "data": {
      "image/png": "[encoded data removed]",
      "text/plain": [
       "<Figure size 576x504 with 1 Axes>"
      ]
     },
     "metadata": {},
     "output_type": "display_data"
    }
   ],
   "source": [
    "#Plotting a scatter plot of budget vs revenue\n",
    "fig, axes = plt.subplots(1,1,figsize = (8,7))\n",
    "fig.suptitle(\"budget vs revenue\",fontsize=25)\n",
    "sns.scatterplot(data=movies,x=\"budget\" ,y=\"revenue\",sizes=(200, 200), legend=\"full\");\n"
   ]
  },
  {
   "cell_type": "code",
   "execution_count": 115,
   "id": "df784567",
   "metadata": {},
   "outputs": [
    {
     "data": {
      "text/plain": [
       "0.7349279812889292"
      ]
     },
     "execution_count": 115,
     "metadata": {},
     "output_type": "execute_result"
    }
   ],
   "source": [
    "#Compputing the correlation between revenue and Budget\n",
    "rev_bud=movies['revenue'].corr(movies['budget'])  \n",
    "rev_bud"
   ]
  },
  {
   "cell_type": "markdown",
   "id": "9ba5a767",
   "metadata": {},
   "source": [
    "we can see that there is fairly strong posiive correlation of **0.73** between viewers' rating (vote_counts) and revenue \n",
    "\n",
    "i.e to say the amonut of money bugeted for a movie contributes about 73% of revenue realized"
   ]
  },
  {
   "cell_type": "markdown",
   "id": "0ddfb12d",
   "metadata": {},
   "source": [
    "### Research Question 3 :Relationship between Polularity and revenue\n",
    "\n"
   ]
  },
  {
   "cell_type": "code",
   "execution_count": 94,
   "id": "717a648f",
   "metadata": {},
   "outputs": [
    {
     "data": {
      "text/plain": [
       "0.6633602814125898"
      ]
     },
     "execution_count": 94,
     "metadata": {},
     "output_type": "execute_result"
    }
   ],
   "source": [
    "#Computing the correlaion between poplularity and revenue of movies\n",
    "pop_rev=movies['popularity'].corr(movies['revenue'])  \n",
    "pop_rev"
   ]
  },
  {
   "cell_type": "markdown",
   "id": "ecb45f6a",
   "metadata": {},
   "source": [
    "**This tells us that the popularity of movies captured in TMDb accounts for about 66% of the revenue realized"
   ]
  },
  {
   "cell_type": "code",
   "execution_count": 163,
   "id": "02880f23",
   "metadata": {},
   "outputs": [
    {
     "data": {
      "image/png": "[encoded data removed]",
      "text/plain": [
       "<Figure size 576x504 with 1 Axes>"
      ]
     },
     "metadata": {},
     "output_type": "display_data"
    }
   ],
   "source": [
    "#Plotting a scatter plot of popularity vs revenue\n",
    "fig, axes = plt.subplots(1,1,figsize = (8,7))\n",
    "fig.suptitle(\"popularity vs revenue\",fontsize=25)\n",
    "sns.scatterplot(data=movies,x=\"popularity\" ,y=\"revenue\" ,sizes=(200, 200), legend=\"full\");"
   ]
  },
  {
   "cell_type": "markdown",
   "id": "e3681e9f",
   "metadata": {},
   "source": [
    "*There is a fair correlation between Movie's popularity and revenue generated*"
   ]
  },
  {
   "cell_type": "markdown",
   "id": "573efb5d",
   "metadata": {},
   "source": [
    "\n",
    "<a id='conclusions'></a>\n",
    "## Conclusions\n",
    "\n",
    "> \n",
    "- Veiwer's rating contribute 79%.\n",
    "- Budget contributes 73%. \n",
    "- Popularity contributes 66%.\n"
   ]
  },
  {
   "cell_type": "markdown",
   "id": "f4a0414e",
   "metadata": {},
   "source": [
    ">**Limitations** \n",
    "- Over the past 55 years (1960-2015), from TDMb,we can see that veiwers' rating (vote_count)  tops the charts in contributing greatly to the revennue generated for movies compared to budget and popularity of a movie"
   ]
  },
  {
   "cell_type": "code",
   "execution_count": null,
   "id": "0a7badf0",
   "metadata": {},
   "outputs": [],
   "source": []
  }
 ],
 "metadata": {
  "kernelspec": {
   "display_name": "Python 3 (ipykernel)",
   "language": "python",
   "name": "python3"
  },
  "language_info": {
   "codemirror_mode": {
    "name": "ipython",
    "version": 3
   },
   "file_extension": ".py",
   "mimetype": "text/x-python",
   "name": "python",
   "nbconvert_exporter": "python",
   "pygments_lexer": "ipython3",
   "version": "3.9.12"
  }
 },
 "nbformat": 4,
 "nbformat_minor": 5
}
